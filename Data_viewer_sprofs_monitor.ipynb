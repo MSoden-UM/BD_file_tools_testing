{
 "cells": [
  {
   "cell_type": "markdown",
   "id": "cd00f592-366f-46f8-9dc6-bf9f221bbaee",
   "metadata": {
    "jupyter": {
     "source_hidden": true
    }
   },
   "source": [
    "### #TODEV\n",
    "- [ ] breakpoint functionality/reading from ODV files\n",
    "- [ ] sprof import\n",
    "- [ ] br import\n",
    "- [ ] normalize column names between MBARI and nc files\n",
    "- [ ] repeat of rmode graphs for multiple data versions for one float\n",
    "\n",
    "        df_bd1 = load_Bnc( '/Users/madison.soden/BGCARGO_work/data/4903624/BD/BD4903624_001.nc',  ['DOXY','NITRATE','PH_IN_SITU_TOTAL','CHLA','BBP700'])\n",
    "        cycle_nums, df_24_bd_map = get_df_map_Bnc( '/Users/madison.soden/BGCARGO_work/data/4903624/BD/',   ['DOXY','NITRATE','PH_IN_SITU_TOTAL','CHLA','BBP700'])\n",
    "        preview_df(df_bd1)\n",
    "        all_df = list(df_24_bd_map.values())"
   ]
  },
  {
   "cell_type": "markdown",
   "id": "8e2f7da7-5b37-43f8-bfab-c5aaffafd6e3",
   "metadata": {},
   "source": [
    "### set globals and paths\n",
    "\n",
    "make_df_dict(): will import data from MatLab data directory in this format:\n",
    "    f'{matlab_data_dir}{wmo}/QC/ODV{wmo}QC.TXT')\n",
    "    f'{matlab_data_dir}{wmo}/ODV{wmo}.TXT')\n",
    "1) make sure all ODV files are upto date\n",
    "2) if you want to include multiple data versions for one float make sure the files are named with a wmo suffix\n",
    "       E.g: wmo = \"4903622_mod_ref_ph_980\"\n",
    "            expected amode file name:  {matlab_data_dir} + \"4903622_mod_ref_ph_980/QC/ODV4903622_mod_ref_ph_980QC.TXT\"\n",
    "            expected rmode file name:  {matlab_data_dir} + \"4903622_mod_ref_ph_980/ODV4903622_mod_ref_ph_980.TXT\"\n",
    "            (you can just copy the rmode ODV file and rename it)"
   ]
  },
  {
   "cell_type": "code",
   "execution_count": 32,
   "id": "dc69aa97-7d78-4dd5-9c64-dce362fb1537",
   "metadata": {},
   "outputs": [],
   "source": [
    "matlab_data_dir = '/Users/madison.soden/Documents/MATLAB/ARGO_PROCESSING/DATA/ARGO_REPO/'\n",
    "WMO_LIST = [\"6999992\",\"6999992_ph_950_980\",\"4903904\", \"4903904_ph_950_980\"]"
   ]
  },
  {
   "cell_type": "code",
   "execution_count": 50,
   "id": "e55ab18c-228e-44e3-9421-00feb7aa67e8",
   "metadata": {},
   "outputs": [],
   "source": [
    "line_colors_greens =  [ '#1aa000', '#25e200', '#79ff5e'] #greens \n",
    "line_colors_reds   =  [ '#b22222', '#e65c00', '#ff8c42'] #reds \n",
    "line_colors_blues  =  [ '#007bff', '#5d9eff', '#87c4ff'] #blues\n",
    "line_colors_greys  =  [ '#494541', '#696969', '#9f9f9f'] #greyscale\n",
    "#px.colors.qualitative.Set3\n",
    "#px.colors.sequential.Viridis_r\n",
    "\n",
    "wmo_to_colorscale = {  \"4903622\": \"blues\", \n",
    "                       \"4903624\": \"greens\",\n",
    "                       \"4903625\": \"reds\",\n",
    "                       \"7901009\": \"oranges\",\n",
    "                       \"2904010\": \"purples\",\n",
    "                       \"2904011\": \"teal\",\n",
    "                       \"6999992\": \"reds\",\n",
    "                       \"6999992_ph_950_980\": \"blues\",\n",
    "                       \"4903904\": \"oranges\", \n",
    "                       \"4903904_ph_950_980\": \"purples\"\n",
    "                       } #\"greys\", \"mint\", \"peach\", \"purp\", \"brwnyl\" https://plotly.com/python/builtin-colorscales/\n",
    "                  "
   ]
  },
  {
   "cell_type": "markdown",
   "id": "00226b5e-e511-4153-9843-172fbcfd796f",
   "metadata": {},
   "source": [
    "### Imports"
   ]
  },
  {
   "cell_type": "code",
   "execution_count": 34,
   "id": "55acc090-5b6e-47e2-8c65-f374c19387cf",
   "metadata": {},
   "outputs": [],
   "source": [
    "from dash import Dash, dcc, html, Input, Output\n",
    "import plotly.express as px\n",
    "import glob\n",
    "import io\n",
    "import os\n",
    "import netCDF4\n",
    "import xarray as xr\n",
    "import plotly.graph_objects as go\n",
    "import pandas as pd\n",
    "pd.options.mode.copy_on_write = True"
   ]
  },
  {
   "cell_type": "markdown",
   "id": "79cc324a-291d-4813-89c8-f481425c7374",
   "metadata": {},
   "source": [
    "### Function declarations"
   ]
  },
  {
   "cell_type": "code",
   "execution_count": 35,
   "id": "b9b0bef5-8995-4f32-8635-ab7ac3256b43",
   "metadata": {
    "jupyter": {
     "source_hidden": true
    }
   },
   "outputs": [],
   "source": [
    "def get_color_scale_rgb( colorscale, max_profile_num):\n",
    "    \"\"\"\n",
    "    Generate discrete color scale given a max profile number. Returns a list of rgb tumpels 07/23/25 M.S. \n",
    "    Not sure what \"colortype='hex' is doing, if anything.\n",
    "    \"\"\"\n",
    "    if (max_profile_num ==1): max_profile_num+=1 #to prevent dividing by zero\n",
    "    #positions = [i / (max_profile_num - 1) for i in range(max_profile_num)]\n",
    "    #colors = px.colors.sample_colorscale( colorscale, positions, colortype='rgb')\n",
    "    colors = px.colors.sample_colorscale( colorscale, max_profile_num, low=0.4, high=0.8, colortype='rgb') \n",
    "    return colors #colors[::-1]for reversed scale #colors for non reverse scale"
   ]
  },
  {
   "cell_type": "code",
   "execution_count": 36,
   "id": "b41398c8-8b6f-4110-8fda-56b915872557",
   "metadata": {
    "jupyter": {
     "source_hidden": true
    }
   },
   "outputs": [],
   "source": [
    "def get_netcdf_files(directory):\n",
    "        # Get all files and directories in the specified directory\n",
    "        files = os.listdir(directory)\n",
    "        # Filter out directories, only keep files\n",
    "        files = [f for f in files if os.path.isfile(os.path.join(directory, f))]\n",
    "        return files"
   ]
  },
  {
   "cell_type": "code",
   "execution_count": 37,
   "id": "f05b9586-c3b1-4ef4-81e5-9b55d0d61691",
   "metadata": {
    "jupyter": {
     "source_hidden": true
    }
   },
   "outputs": [],
   "source": [
    "def xarray_netcdf_df( filename): \n",
    "    ds = xr.open_dataset(filename, drop_variables=[\"DATA_TYPE\", \"FORMAT_VERSION\", \"HANDBOOK_VERSION\", \"HISTORY_SOFTWARE\", \"HISTORY_SOFTWARE_RELEASE\", \n",
    "                                                   \"HISTORY_REFERENCE\", \"HISTORY_DATE\", \"REFERENCE_DATE_TIME\", \"DATE_CREATION\", \"DATE_UPDATE\", \"HISTORY_ACTION\",\n",
    "                                                   \"HISTORY_QCTEST\", \"HISTORY_START_PRES\", \"HISTORY_STOP_PRES\", \"PI_NAME\", \"PROJECT_NAME\", \"SCIENTIFIC_CALIB_COEFFICIENT\"\n",
    "                                                   \"SCIENTIFIC_CALIB_EQUATION\", 'PLATFORM_TYPE', 'FLOAT_SERIAL_NO', 'FIRMWARE_VERSION', 'WMO_INST_TYPE', 'JULD', \n",
    "                                                   'JULD_QC', 'JULD_LOCATION', 'LATITUDE', 'LONGITUDE', 'POSITION_QC', 'POSITIONING_SYSTEM', 'VERTICAL_SAMPLING_SCHEME',\n",
    "                                                   'DIRECTION', 'DATA_CENTRE', 'DC_REFERENCE', 'SCIENTIFIC_CALIB_EQUATION', 'SCIENTIFIC_CALIB_COEFFICIENT', 'SCIENTIFIC_CALIB_COMMENT', \n",
    "                                                   'SCIENTIFIC_CALIB_DATE', 'HISTORY_INSTITUTION', 'HISTORY_STEP', 'HISTORY_PARAMETER', 'HISTORY_PREVIOUS_VALUE'])\n",
    "    df = ds.to_dataframe()\n",
    "    df = df.reset_index()\n",
    "    df1 = df[['PRES', 'DOXY_ADJUSTED', 'DOXY_ADJUSTED_QC', 'BBP700_ADJUSTED', 'BBP700_ADJUSTED_QC', 'CHLA_ADJUSTED', 'CHLA_ADJUSTED_QC', \n",
    "               'NITRATE_ADJUSTED', 'NITRATE_ADJUSTED_QC']].copy() #'DOXY_ADJUSTED_ERROR', 'BBP700_ADJUSTED_ERROR', 'CHLA_ADJUSTED_ERROR', 'NITRATE_ADJUSTED_ERROR', \n",
    "    #print(list(df1.columns))\n",
    "    df1 = df1.dropna(subset=[\"DOXY_ADJUSTED\"])\n",
    "    for c in ['DOXY_ADJUSTED_QC', 'BBP700_ADJUSTED_QC', 'CHLA_ADJUSTED_QC', 'NITRATE_ADJUSTED_QC']: \n",
    "        df1[c] = df1[c].apply(lambda x: x.decode('utf-8'))\n",
    "    df1 = df1.drop_duplicates()\n",
    "    df1.rename(columns={'BBP700_ADJUSTED':'BBP_700[1/m]', 'CHLA_ADJUSTED':'CHLA[mg/m^3]', 'NITRATE_ADJUSTED':'Nitrate[µmol/kg]', 'DOXY_ADJUSTED':'Oxygen[µmol/kg]',\n",
    "                        'DOXY_ADJUSTED_QC':'OxygenQF', 'BBP700_ADJUSTED_QC':'BBPQF', 'CHLA_ADJUSTED_QC':'CHLAQF', 'NITRATE_ADJUSTED_QC':'NitrateQF', 'PRES':'Depth[m]' }, inplace=True)\n",
    "    df1 = df1.reset_index(drop=True)\n",
    "    return df1"
   ]
  },
  {
   "cell_type": "code",
   "execution_count": 38,
   "id": "3aed0d08-79bd-4019-b7fb-0dd7961f3224",
   "metadata": {
    "jupyter": {
     "source_hidden": true
    }
   },
   "outputs": [],
   "source": [
    "def load_sprof( fileName, param_List):\n",
    "    \"\"\"\n",
    "    Example function call: \n",
    "        df = load_sprof(\"/Users/madison.soden/Downloads/2904010_Sprof.nc\", [\"DOXY\"])\n",
    "    \"\"\"\n",
    "    #loading relevant sprof into pandas array\n",
    "    ds = xr.open_dataset(fileName, drop_variables=[\"DATA_TYPE\", \"FORMAT_VERSION\", \"HANDBOOK_VERSION\", \"HISTORY_SOFTWARE\", \"HISTORY_SOFTWARE_RELEASE\", \n",
    "                                                   \"HISTORY_REFERENCE\", \"HISTORY_DATE\", \"REFERENCE_DATE_TIME\", \"DATE_CREATION\", \"DATE_UPDATE\", \"HISTORY_ACTION\",\n",
    "                                                   \"HISTORY_QCTEST\", \"HISTORY_START_PRES\", \"HISTORY_STOP_PRES\", \"PI_NAME\", \"PROJECT_NAME\", \"SCIENTIFIC_CALIB_COEFFICIENT\"\n",
    "                                                   \"SCIENTIFIC_CALIB_EQUATION\", 'PLATFORM_TYPE', 'FLOAT_SERIAL_NO', 'FIRMWARE_VERSION', 'WMO_INST_TYPE', 'JULD', \n",
    "                                                   'JULD_QC', 'JULD_LOCATION', 'LATITUDE', 'LONGITUDE', 'POSITION_QC', 'POSITIONING_SYSTEM', 'VERTICAL_SAMPLING_SCHEME',\n",
    "                                                   'DIRECTION', 'DATA_CENTRE', 'DC_REFERENCE', 'SCIENTIFIC_CALIB_EQUATION', 'SCIENTIFIC_CALIB_COEFFICIENT', 'SCIENTIFIC_CALIB_COMMENT', \n",
    "                                                   'SCIENTIFIC_CALIB_DATE', 'HISTORY_INSTITUTION', 'HISTORY_STEP', 'HISTORY_PARAMETER', 'HISTORY_PREVIOUS_VALUE'])\n",
    "\n",
    "    \n",
    "    keep_column_list = ['N_PROF', 'N_LEVELS', 'PRES', 'PRES_ADJUSTED']\n",
    "    for p in param_List:\n",
    "        keep_column_list.append(p)\n",
    "        keep_column_list.append(p+\"_QC\")\n",
    "        keep_column_list.append(p+\"_ADJUSTED\")\n",
    "        keep_column_list.append(p+\"_ADJUSTED_QC\")\n",
    "        keep_column_list.append(p+\"_ADJUSTED_ERROR\")\n",
    "    \n",
    "    # convert to pandas df\n",
    "    df = ds.to_dataframe().reset_index()\n",
    "        #print(df.columns)\n",
    "    \n",
    "    df_sprof = df[keep_column_list]\n",
    "        #print(df_sprof.head(25))\n",
    "\n",
    "    df_sprof = df_sprof.loc[df_sprof[\"DOXY\"].notna()]\n",
    "    \n",
    "    return df_sprof"
   ]
  },
  {
   "cell_type": "code",
   "execution_count": 39,
   "id": "12e310d3-60a5-4f68-9bd9-d7598ecbeef3",
   "metadata": {
    "jupyter": {
     "source_hidden": true
    }
   },
   "outputs": [],
   "source": [
    "def det_skiprows_odvqc(filename):\n",
    "    '''This function determines the number of header lines (starting with \"//\")\n",
    "    in and ODV{floatid}QC.txt file with the given filename.\n",
    "    Returns the number of header lines. \n",
    "    Hartmut Frenzel'''\n",
    "    with open(filename, 'r') as f_in:\n",
    "        lines = f_in.readlines()\n",
    "    skiprows = 0\n",
    "    nit_break_points = []\n",
    "    for line in lines:\n",
    "        if line[0:2] == '//':\n",
    "            if line.startswith(\"//Nitrate\"):\n",
    "                Nit_coefs = line.split(\"\\t\")\n",
    "                nit_break_points.append(int(Nit_coefs[1]))\n",
    "            skiprows += 1\n",
    "        else:\n",
    "            break\n",
    "    return skiprows, nit_break_points"
   ]
  },
  {
   "cell_type": "code",
   "execution_count": 40,
   "id": "7adddc86-2d77-4500-b58b-023d0b79495e",
   "metadata": {
    "jupyter": {
     "source_hidden": true
    }
   },
   "outputs": [],
   "source": [
    "def preview_df( df): \n",
    "    with pd.option_context(\n",
    "        'display.max_rows', 200,\n",
    "        'display.min_rows', 50,\n",
    "        'display.max_columns', None): display(df)"
   ]
  },
  {
   "cell_type": "code",
   "execution_count": 41,
   "id": "cc8158cd-e6b0-48f0-b26a-422523d8a870",
   "metadata": {
    "jupyter": {
     "source_hidden": true
    }
   },
   "outputs": [],
   "source": [
    "def load_ODV( fileName):\n",
    "    #loading relevant odvfile into pandas array\n",
    "    skip, nit_break_points=det_skiprows_odvqc(fileName)\n",
    "    df_ODV = pd.read_csv( fileName, sep='\\t', skiprows=skip)\n",
    "    \n",
    "    df_ODV = df_ODV.reset_index(drop=True)\n",
    "    df_ODV = df_ODV.rename(columns={\"QF.1\": \"PressureQF\", \"QF.2\": \"TemperatureQF\", \"QF.3\": \"SalinityQF\", \n",
    "                                    \"QF.6\": \"OxygenQF\", \"QF.8\": \"NitrateQF\", \"QF.9\": \"CHLAQF\", \"QF.10\": \"BBPQF\", \"QF.12\": \"pH_QF\"})\n",
    "        # df_ODV = df_ODV.iloc[:, [ 1, 2, 3, 4, 8, 9, 10, 11, 12, 13, 16, 18, 19, 22, 23, 24, 25, 26, 27, 30, 31]]\n",
    "        # pressure = 8, pressureQF = 9, Temp = 10, TempQF = 11, Salinity =12, SalinityQF= 13\n",
    "        # depth = 16, Oxygen =18, oxygenQF = 19, nitrate = 22, nitrateQF = 23, \n",
    "        # Chl_a = 24, Chl_aQF = 25, BBP700 = 26, BBPQF = 27, pH = 30, pHQF = 31\n",
    "    \n",
    "        #foo = str(df_ODV.iloc[5, 'mon/day/yr']) + \" \" + str(df_ODV.iloc[5, 'hh:mm'])\n",
    "    df_ODV.rename(columns={'b_bp700[1/m]':'BBP_700[1/m]'}, inplace=True)\n",
    "    df_ODV.rename(columns={'Chl_a[mg/m^3]':'CHLA[mg/m^3]'}, inplace=True)\n",
    "    df_ODV.rename(columns={'pHinsitu[Total]':'pH_Insitu_total'}, inplace=True)\n",
    "    \n",
    "    for i in df_ODV.index:\n",
    "        df_ODV.loc[i, 'mon/day/yr'] = pd.to_datetime( (str(df_ODV['mon/day/yr'][i]) + \" \" + str(df_ODV['hh:mm'][i])), format='%m/%d/%Y %H:%M')\n",
    "    \n",
    "    for i in df_ODV.index: \n",
    "        if( df_ODV.loc[i, 'Nitrate[µmol/kg]'] == -10000000000.0 ):\n",
    "            df_ODV.loc[i, 'Nitrate[µmol/kg]'] = None\n",
    "            df_ODV.loc[i, 'NitrateQF'] = None\n",
    "        if( df_ODV.loc[i, 'Oxygen[µmol/kg]'] == -10000000000.0 ):\n",
    "            df_ODV.loc[i, 'Oxygen[µmol/kg]'] = None\n",
    "            df_ODV.loc[i, 'OxygenQF'] = None\n",
    "        if( df_ODV.loc[i, 'BBP_700[1/m]'] == -10000000000.0 ):\n",
    "            df_ODV.loc[i, 'BBP_700[1/m]'] = None\n",
    "            df_ODV.loc[i, 'BBPQF'] = None\n",
    "        if( df_ODV.loc[i, 'pH_Insitu_total'] == -10000000000.0 ):\n",
    "            df_ODV.loc[i, 'pH_Insitu_total'] = None\n",
    "            df_ODV.loc[i, 'pH_QF'] = None\n",
    "        if( df_ODV.loc[i, 'CHLA[mg/m^3]'] == -10000000000.0 ):\n",
    "            df_ODV.loc[i, 'CHLA[mg/m^3]'] = None\n",
    "            df_ODV.loc[i, 'CHLAQF'] = None\n",
    "        if( df_ODV.loc[i, 'Salinity[pss]'] == -10000000000.0):\n",
    "            df_ODV.loc[i, 'Salinity[pss]'] = None\n",
    "            df_ODV.loc[i, 'SalinityQF'] = None\n",
    "        if( df_ODV.loc[i, 'Temperature[°C]'] == -10000000000.0):\n",
    "            df_ODV.loc[i, 'Temperature[°C]'] = None\n",
    "            df_ODV.loc[i, 'TemperatureQF'] = None\n",
    "\n",
    "        \n",
    "    df_Nit = df_ODV[df_ODV['Nitrate[µmol/kg]'].notna()]\n",
    "    # used the following for loop instead of ^.notna()]^ apprach to allow myself to retain \n",
    "    # the 'None'values inbetween profiles or 'Station' changes. So that the scatter plots \n",
    "    # trace correctly. This is a temp solution. I should probably split by station in the \n",
    "    # future but I'm slightly concerned about processing time when regraphing. \n",
    "    \n",
    "        #for i in df_Nit.index[:-1]: \n",
    "        #    if( (df_Nit.loc[i, 'Station'] == df_Nit.loc[i+1, 'Station']) and \n",
    "        #        (df_Nit.loc[i, 'Nitrate[µmol/kg]'] == None) ):\n",
    "        #        df_Nit.drop([i])\n",
    "        #print(df_Nit)\n",
    "    \n",
    "    df_Nit['NitrateQF'] = df_Nit['NitrateQF'].apply(str)\n",
    "    df_Nit['OxygenQF']  = df_Nit['OxygenQF'].apply(str)\n",
    "    df_Nit['BBPQF']     = df_Nit['BBPQF'].apply(str)\n",
    "    df_Nit['CHLAQF']    = df_Nit['CHLAQF'].apply(str)\n",
    "    df_Nit['pH_QF']    = df_Nit['pH_QF'].apply(str)\n",
    "    df_Nit['SalinityQF']    = df_Nit['SalinityQF'].apply(str)\n",
    "    df_Nit['TemperatureQF']    = df_Nit['TemperatureQF'].apply(str)\n",
    "\n",
    "    df_Nit = df_Nit.reset_index(drop=True)\n",
    "    \n",
    "    return df_Nit, nit_break_points#.groupby(\"Station\", as_index=False) #removed list(kjdfjsdf)"
   ]
  },
  {
   "cell_type": "code",
   "execution_count": 42,
   "id": "0a0fdc2e-6fe2-45c3-a906-ade43141fbcd",
   "metadata": {
    "jupyter": {
     "source_hidden": true
    }
   },
   "outputs": [],
   "source": [
    "def load_Bnc( fileName, param_List):\n",
    "    \"\"\"\n",
    "    Example function call: \n",
    "        df = load_sprof(\"/Users/madison.soden/Downloads/2904010_Sprof.nc\", [\"DOXY\"])\n",
    "    \"\"\"\n",
    "    #loading relevant sprof into pandas array\n",
    "    ds = xr.open_dataset(fileName, drop_variables=[\"DATA_TYPE\", \"FORMAT_VERSION\", \"HANDBOOK_VERSION\", \"HISTORY_SOFTWARE\", \"HISTORY_SOFTWARE_RELEASE\", \n",
    "                                                   \"HISTORY_REFERENCE\", \"HISTORY_DATE\", \"REFERENCE_DATE_TIME\", \"DATE_CREATION\", \"DATE_UPDATE\", \"HISTORY_ACTION\",\n",
    "                                                   \"HISTORY_QCTEST\", \"HISTORY_START_PRES\", \"HISTORY_STOP_PRES\", \"PI_NAME\", \"PROJECT_NAME\", \"SCIENTIFIC_CALIB_COEFFICIENT\"\n",
    "                                                   \"SCIENTIFIC_CALIB_EQUATION\", 'PLATFORM_TYPE', 'FLOAT_SERIAL_NO', 'FIRMWARE_VERSION', 'WMO_INST_TYPE', 'JULD', \n",
    "                                                   'JULD_QC', 'JULD_LOCATION', 'LATITUDE', 'LONGITUDE', 'POSITION_QC', 'POSITIONING_SYSTEM', 'VERTICAL_SAMPLING_SCHEME',\n",
    "                                                   'DIRECTION', 'DATA_CENTRE', 'DC_REFERENCE', 'SCIENTIFIC_CALIB_EQUATION', 'SCIENTIFIC_CALIB_COEFFICIENT', 'SCIENTIFIC_CALIB_COMMENT', \n",
    "                                                   'SCIENTIFIC_CALIB_DATE', 'HISTORY_INSTITUTION', 'HISTORY_STEP', 'HISTORY_PARAMETER', 'HISTORY_PREVIOUS_VALUE'])\n",
    "\n",
    "    \n",
    "    keep_column_list = ['N_PROF', 'N_LEVELS', 'PRES', 'PRES_ADJUSTED']\n",
    "    for p in param_List:\n",
    "        keep_column_list.append(p)\n",
    "        keep_column_list.append(p+\"_QC\")\n",
    "        keep_column_list.append(p+\"_ADJUSTED\")\n",
    "        keep_column_list.append(p+\"_ADJUSTED_QC\")\n",
    "        keep_column_list.append(p+\"_ADJUSTED_ERROR\")\n",
    "    \n",
    "    # convert to pandas df\n",
    "    df = ds.to_dataframe().reset_index()\n",
    "        #print(df.columns)\n",
    "    \n",
    "    df_Bnc = df.reindex(columns= keep_column_list)\n",
    "    #df = df.reindex(columns=df.columns.union([\"PRES_ADJUSTED\", \"PRES_ADJUSTED_QC\", ...]))\n",
    "        #print(df_sprof.head(25))\n",
    "    df_Bnc = df_Bnc.loc[df_Bnc[\"DOXY\"].notna()]\n",
    "    df_Bnc = df_Bnc.drop_duplicates()\n",
    "    \n",
    "    return df_Bnc"
   ]
  },
  {
   "cell_type": "code",
   "execution_count": 43,
   "id": "2d1c264b-89d2-4c40-8b2a-7b6c1b3abd9b",
   "metadata": {
    "jupyter": {
     "source_hidden": true
    }
   },
   "outputs": [],
   "source": [
    "def get_df_map_Bnc( dir_path, param_List): \n",
    "    file_paths = glob.glob(dir_path +\"/BD*.nc\")\n",
    "    file_paths.sort()\n",
    "    cycle_nums = [int(c[-6:-3]) for c in file_paths]\n",
    "    Bnc_df_map = {c: load_Bnc(fp, param_List) for c, fp in zip(cycle_nums, file_paths)}\n",
    "\n",
    "    return cycle_nums, Bnc_df_map"
   ]
  },
  {
   "cell_type": "code",
   "execution_count": 51,
   "id": "7e9018f8-44b6-4899-a36f-78cd6f694657",
   "metadata": {},
   "outputs": [],
   "source": [
    "def make_df_dict(wmolist):\n",
    "    float_dict = dict.fromkeys(wmolist)\n",
    "    for wmo in wmolist:\n",
    "        float_dict[wmo] = {\n",
    "            \"r_df\": None,\n",
    "            \"r_df_grouped\": None,\n",
    "            \"r_mask\": None,\n",
    "            \"a_df\": None,\n",
    "            \"a_df_grouped\": None,\n",
    "            \"a_mask\": None,\n",
    "            \"break_points\": None,\n",
    "            \"profile_list\": None, \n",
    "            \"max_prof\": None,\n",
    "            \"min_prof\": None,\n",
    "            \"num_prof\": None,\n",
    "            \"colorscale\": None }\n",
    "        float_dict[wmo]['r_df'], foo    = load_ODV( f'{matlab_data_dir}{wmo[:7]}/ODV{wmo}.TXT')\n",
    "        float_dict[wmo]['r_df_grouped'] = float_dict[wmo]['r_df'].groupby(\"Station\", as_index=False)\n",
    "        float_dict[wmo]['a_df'], bpts   = load_ODV( f'{matlab_data_dir}{wmo[:7]}/QC/ODV{wmo}QC.TXT')\n",
    "        float_dict[wmo]['a_df_grouped'] = float_dict[wmo]['a_df'].groupby(\"Station\", as_index=False)\n",
    "        float_dict[wmo]['break_points'] = bpts\n",
    "        float_dict[wmo]['profile_list'] = float_dict[wmo]['r_df']['Station'].unique().tolist()\n",
    "        float_dict[wmo]['max_prof']     = max( float_dict[wmo]['profile_list'])\n",
    "        float_dict[wmo]['min_prof']     = min( float_dict[wmo]['profile_list'])\n",
    "        float_dict[wmo]['num_prof']     = len( float_dict[wmo]['profile_list'])\n",
    "        float_dict[wmo]['r_colorscale'] = \"greys\"\n",
    "        float_dict[wmo]['a_colorscale'] = wmo_to_colorscale[wmo]\n",
    "        \n",
    "    max_prof_range = 1\n",
    "    for wmo in wmolist: \n",
    "        if float_dict[wmo][\"max_prof\"] > max_prof_range:\n",
    "            max_prof_range = float_dict[wmo][\"max_prof\"]\n",
    "\n",
    "    return float_dict, max_prof_range"
   ]
  },
  {
   "cell_type": "markdown",
   "id": "04179d1f-c9f5-4333-8d68-950d6c03aa2d",
   "metadata": {},
   "source": [
    "### load data from list of WMO#s\n",
    "- functionality for SProfs only right now"
   ]
  },
  {
   "cell_type": "code",
   "execution_count": 52,
   "id": "002fba04-5cb1-45a7-88ee-e78c659fce25",
   "metadata": {},
   "outputs": [],
   "source": [
    "float_df_dict, max_prof_range = make_df_dict(WMO_LIST)"
   ]
  },
  {
   "cell_type": "markdown",
   "id": "a5499293-eaaa-432d-bdb7-c65cfb5a3bed",
   "metadata": {
    "jp-MarkdownHeadingCollapsed": true
   },
   "source": [
    "### MISC. Sprof and BR/D import testing"
   ]
  },
  {
   "cell_type": "code",
   "execution_count": null,
   "id": "00d57a75-7f00-4819-9903-62873f4b1027",
   "metadata": {},
   "outputs": [],
   "source": [
    "f_22_nprof = len(df_22_grouped)+1   #will return 49 for a float w/ 49 profiles\n",
    "f_24_nprof = len(df_24_grouped)+1   \n",
    "f_25_nprof = len(df_25_grouped)+1   \n",
    "f_9_nprof  = len(df_9_grouped)+1    \n",
    "\n",
    "f_10_nprof = len(df_10_grouped)+1\n",
    "f_11_nprof = len(df_11_grouped)+1 \n",
    "f_2_nprof  = len(df_2_grouped)+1\n",
    "f_4_nprof  = len(df_4_grouped)+1\n",
    "\n",
    "max_nprof = max(f_4_nprof, f_2_nprof)"
   ]
  },
  {
   "cell_type": "code",
   "execution_count": null,
   "id": "03409a1f-9d57-4613-8580-409197af18fd",
   "metadata": {
    "jupyter": {
     "source_hidden": true
    }
   },
   "outputs": [],
   "source": [
    "df_sprof_22         = load_sprof( f_10_sprof, ['DOXY','NITRATE','PH_IN_SITU_TOTAL','CHLA','BBP700'])\n",
    "df_sprof_22_grouped = df_sprof_22.groupby(\"N_PROF\", as_index=False) "
   ]
  },
  {
   "cell_type": "code",
   "execution_count": null,
   "id": "d0a1cf30-1e87-4236-be2a-2bb7740fe4c0",
   "metadata": {
    "jupyter": {
     "source_hidden": true
    }
   },
   "outputs": [],
   "source": [
    "df_sprof_24         = load_sprof( f_24_sprof, ['DOXY','NITRATE','PH_IN_SITU_TOTAL','CHLA','BBP700'])\n",
    "df_sprof_24_grouped = df_sprof_24.groupby(\"N_PROF\", as_index=False)"
   ]
  },
  {
   "cell_type": "code",
   "execution_count": null,
   "id": "e511f5bd-9302-4d9f-a307-e1a99f5a57a4",
   "metadata": {
    "jupyter": {
     "source_hidden": true
    }
   },
   "outputs": [],
   "source": [
    "df_sprof_25         = load_sprof( f_25_sprof, ['DOXY','NITRATE','PH_IN_SITU_TOTAL','CHLA','BBP700'])\n",
    "df_sprof_25_grouped = df_sprof_25.groupby(\"N_PROF\", as_index=False)"
   ]
  },
  {
   "cell_type": "code",
   "execution_count": null,
   "id": "94f46b43-2f63-45d9-87da-8327edcc6140",
   "metadata": {
    "jupyter": {
     "source_hidden": true
    }
   },
   "outputs": [],
   "source": [
    "df_sprof_9         = load_sprof( f_9_sprof, ['DOXY','NITRATE','PH_IN_SITU_TOTAL','CHLA','BBP700'])\n",
    "df_sprof_9_grouped = df_sprof_9.groupby(\"N_PROF\", as_index=False)"
   ]
  },
  {
   "cell_type": "code",
   "execution_count": null,
   "id": "21cd500d-5f8c-48f0-ad5a-6f11b85f6e58",
   "metadata": {
    "jupyter": {
     "source_hidden": true
    }
   },
   "outputs": [],
   "source": [
    "df_sprof_10 = load_sprof( f_10_sprof, ['DOXY','NITRATE','PH_IN_SITU_TOTAL','CHLA','BBP700'])\n",
    "df_sprof_10_grouped = df_sprof_10.groupby(\"N_PROF\", as_index=False)"
   ]
  },
  {
   "cell_type": "code",
   "execution_count": null,
   "id": "b8b16bcb-d106-4c75-b2c0-c2c3fa58b06b",
   "metadata": {
    "jupyter": {
     "source_hidden": true
    }
   },
   "outputs": [],
   "source": [
    "df_sprof_11 = load_sprof( f_11_sprof, ['DOXY','NITRATE','PH_IN_SITU_TOTAL','CHLA','BBP700'])\n",
    "df_sprof_11_grouped = df_sprof_11.groupby(\"N_PROF\", as_index=False)"
   ]
  },
  {
   "cell_type": "code",
   "execution_count": null,
   "id": "3e68d4d8-2c44-48ad-b791-3cc4e38f7164",
   "metadata": {
    "jupyter": {
     "source_hidden": true
    }
   },
   "outputs": [],
   "source": [
    "df_sprof_2 = load_sprof( f_2_sprof, ['DOXY','NITRATE','PH_IN_SITU_TOTAL','CHLA','BBP700'])\n",
    "df_sprof_2_grouped = df_sprof_2.groupby(\"N_PROF\", as_index=False)"
   ]
  },
  {
   "cell_type": "code",
   "execution_count": null,
   "id": "66a2b3c3-ed87-4f81-827c-ead638b0d473",
   "metadata": {
    "jupyter": {
     "source_hidden": true
    }
   },
   "outputs": [],
   "source": [
    "df_sprof_4 = load_sprof( f_4_sprof, ['DOXY','NITRATE','PH_IN_SITU_TOTAL','CHLA','BBP700'])\n",
    "df_sprof_4_grouped = df_sprof_4.groupby(\"N_PROF\", as_index=False)"
   ]
  },
  {
   "cell_type": "raw",
   "id": "63a98e6b-da18-4b3b-80cb-b76d54763b0d",
   "metadata": {
    "jupyter": {
     "source_hidden": true
    }
   },
   "source": [
    "#TODEV\n",
    "# - inital implamentation of \n",
    "#marks_9 = {x:{'label': str(x), 'style': {'color': line_colors_greens[0]}} for x in nit_break_points_9}\n",
    "\n",
    "marks_11 = {x:{'label': str(x), 'style': {'color': line_colors_greens[0]}} for x in nit_break_points_11}\n",
    "marks_10 = {x:{'label': str(x), 'style': {'color': line_colors_blues[0]}} for x in nit_break_points_10}\n",
    "\n",
    "marks_2 = {x:{'label': str(x), 'style': {'color': line_colors_greens[0]}} for x in nit_break_points_2}\n",
    "marks_4 = {x:{'label': str(x), 'style': {'color': line_colors_blues[0]}} for x in nit_break_points_4}\n",
    "\n",
    "marks = marks_11 | marks_10\n",
    "marks = marks_2 | marks_4\n",
    "\n",
    "#marks = marks_22\n",
    "#marks.update({max_nprof:{'label': str(max_nprof)}})\n",
    "\n",
    "temp_marks = [0,12]#25,50,75,96]\n",
    "communication_marks = [71, 86] \n",
    "no_surface_marks = [72, 85] \n",
    "temp_marks.extend(communication_marks)\n",
    "temp_marks.extend(no_surface_marks)\n",
    "temp_marks.sort()\n",
    "#print(temp_marks)\n",
    "marks = {x:{'label': str(x), 'style': {'color': line_colors_greens[0]}} for x in temp_marks}\n",
    "#marks = {\n",
    "#    x: {\n",
    "#        'label': str(x),\n",
    "#        'style': {'color': line_colors_blues[0]} if x in communication_marks else\n",
    "#                 {'color': line_colors_reds[0]} if x in no_surface_marks else\n",
    "#                 {'color': line_colors_greens[0]}\n",
    "#    }\n",
    "#    for x in temp_marks\n",
    "#}\n",
    "marks = dict(sorted(marks.items()))"
   ]
  },
  {
   "cell_type": "markdown",
   "id": "58013daf-cba4-4f07-b3a1-5e20e2ac8f26",
   "metadata": {},
   "source": [
    "### Run Data Dashboard\n",
    "  (will open in another tab)"
   ]
  },
  {
   "cell_type": "code",
   "execution_count": 53,
   "id": "501cd04f-9e61-4172-9181-854d32a0f0ef",
   "metadata": {
    "scrolled": true
   },
   "outputs": [
    {
     "name": "stdout",
     "output_type": "stream",
     "text": [
      "Dash app running on http://127.0.0.1:8050/\n"
     ]
    },
    {
     "data": {
      "application/javascript": [
       "window.open('http://127.0.0.1:8050/')"
      ],
      "text/plain": [
       "<IPython.core.display.Javascript object>"
      ]
     },
     "metadata": {},
     "output_type": "display_data"
    }
   ],
   "source": [
    "app = Dash(__name__)\n",
    "#buffer = io.StringIO()\n",
    "#fig.write_html(buffer)\n",
    "#html_bytes = buffer.getvalue().encode()\n",
    "#encoded = b64encode(html_bytes).decode()\n",
    "\n",
    "app.layout = html.Div([\n",
    "    html.Div([\n",
    "        html.H5(\"Mode: \"),\n",
    "            dcc.Checklist(\n",
    "                options = [\n",
    "                     {'label': 'Real',      'value': 'r'},\n",
    "                     {'label': 'Adj/Delay', 'value': 'a'},\n",
    "                ],\n",
    "                value = [],\n",
    "                inline= True,\n",
    "                id='data_mode',), \n",
    "        html.H5(\"Floats: \"),\n",
    "            dcc.Checklist(\n",
    "                options = [ {'label': f\"WMO {wmo}\", 'value': wmo} for wmo in float_df_dict.keys()],\n",
    "                #options = [\n",
    "                #     {'label': 'WMO 2904010', 'value': '2904010'},\n",
    "                #     {'label': 'WMO 2904011', 'value': '2904011'},\n",
    "                #],\n",
    "                value = [],\n",
    "                inline= True,\n",
    "                id='wmo_list',),\n",
    "        html.H5(\"Variable\"),\n",
    "            dcc.Dropdown(\n",
    "                id=\"n_param\",\n",
    "                options=['Temperature[°C]', 'Salinity[pss]', 'Oxygen[µmol/kg]', 'Nitrate[µmol/kg]', 'pH_Insitu_total', 'BBP_700[1/m]', 'CHLA[mg/m^3]'],\n",
    "                value='Nitrate[µmol/kg]',\n",
    "            ),    \n",
    "        html.H5(\"Filter by Cycle #:\"),\n",
    "            dcc.RangeSlider(\n",
    "                id='range-slider',\n",
    "                min=1, max=max_prof_range, step=1,\n",
    "                value=[0, max_prof_range],\n",
    "                tooltip={\n",
    "                \"always_visible\": True,\n",
    "                \"template\": \"{value}\"\n",
    "                },\n",
    "            ), \n",
    "        \n",
    "    ], style={'width': '49%', 'display': 'inline-block'}),\n",
    "    html.Div([\n",
    "        dcc.Graph(id=\"scatter-plot\")\n",
    "        ], style={'height': '70%'}) #'display': 'inline-block'\n",
    "    ])\n",
    "\n",
    "@app.callback( \n",
    "    Output(\"scatter-plot\", \"figure\"), \n",
    "    Input( \"range-slider\", \"value\"),\n",
    "    Input( \"n_param\",      \"value\"),\n",
    "    Input( \"wmo_list\",     \"value\"),\n",
    "    Input( \"data_mode\",     \"value\") )\n",
    "\n",
    "def update_plot(slider_range, n_param, wmo_list, data_mode):\n",
    " \n",
    "    low, high = slider_range\n",
    "    for wmo in wmo_list:\n",
    "        for mode in data_mode:\n",
    "            float_df_dict[wmo][f\"{mode}_df\"][f\"{mode}_mask\"] = (float_df_dict[wmo][f\"{mode}_df\"]['Station'] >= low) & (float_df_dict[wmo][f\"{mode}_df\"]['Station'] <= high)\n",
    "        \n",
    "\n",
    "    if(n_param=='Nitrate[µmol/kg]'):  \n",
    "        start_x_range= [0,35]\n",
    "        color_str = 'NitrateQF'\n",
    "    elif(n_param=='Oxygen[µmol/kg]'):\n",
    "        start_x_range= [100,250]\n",
    "        color_str = 'OxygenQF'\n",
    "    elif(n_param=='pH_Insitu_total'):\n",
    "        start_x_range= [7.6,8.1]\n",
    "        color_str = 'pH_QF'\n",
    "    elif(n_param=='CHLA[mg/m^3]'):\n",
    "        start_x_range= [0, 0.25] \n",
    "        color_str = 'CHLAQF'\n",
    "    elif(n_param=='BBP_700[1/m]'):\n",
    "        start_x_range= [0, 0.004]\n",
    "        color_str = 'BBPQF'\n",
    "    elif(n_param=='Temperature[°C]'):\n",
    "        start_x_range= [0, 35]\n",
    "        color_str = 'TemperatureQF'\n",
    "    elif(n_param=='Salinity[pss]'):\n",
    "        start_x_range= [34, 38]\n",
    "        color_str = 'SalinityQF'\n",
    "        \n",
    "    fig = go.Figure()\n",
    "\n",
    "    \n",
    "    ##float df dict implmentation## \n",
    "    for wmo in wmo_list:#float_df_dict.keys(): \n",
    "        for mode in data_mode:\n",
    "            float_colors_list = get_color_scale_rgb( float_df_dict[wmo][f'{mode}_colorscale'] , high+1 - low)\n",
    "            if 'a' not in data_mode: float_colors_list = get_color_scale_rgb( float_df_dict[wmo][f'a_colorscale'] , high+1 - low)\n",
    "            mode_color= float_colors_list[-10:]\n",
    "            if mode=='r': mode_color= float_colors_list[0:10]\n",
    "            trace_legend_bool = True\n",
    "            #inital fig made with plotly express, very important for html color toggles\n",
    "            fig.add_trace( px.scatter( float_df_dict[wmo][f\"{mode}_df\"][  float_df_dict[wmo][f\"{mode}_df\"][f\"{mode}_mask\"]  ], \n",
    "                              x=n_param, y='Depth[m]', color=color_str, color_discrete_sequence=mode_color,\n",
    "                              hover_data=['Station'], symbol=color_str, \n",
    "                              range_x = start_x_range).update_traces(legendgroup= f\"{wmo}_QC\").data[0])\n",
    "            fig.update_traces(marker=dict(size=3))\n",
    "    \n",
    "       \n",
    "            #looping profiles to add as traces\n",
    "            i=0 #color counter\n",
    "            for profile_num, df in float_df_dict[wmo][f\"{mode}_df_grouped\"]: \n",
    "                if(profile_num in range(low, high+1)): #+1 added to have range inclusive of 'high' #range(high, low-1, -1)): #\n",
    "                    fig.add_trace(\n",
    "                        go.Scatter(\n",
    "                            y= df['Depth[m]'], \n",
    "                            x= df[n_param],\n",
    "                            name= f\"{mode}_{wmo} {str(profile_num)}\",\n",
    "                            hoverinfo='skip',\n",
    "                            legendgroup= f\"{wmo}_{mode}\",\n",
    "                            line= dict(color= float_colors_list[i], width= 1), #line_colors_reds\n",
    "                            showlegend= trace_legend_bool) )\n",
    "                    #print(f\"{i}: {float_colors_list[i]}\")\n",
    "                    i+=1 #increment color counter\n",
    "                    trace_legend_bool = False #turn off legend lables after first profiles trace\n",
    "                \n",
    "      \n",
    "    ##Formating##\n",
    "    fig.update_layout(    \n",
    "        yaxis= dict(\n",
    "            domain= [0.05, 1],\n",
    "            ticksuffix= \" m\",\n",
    "            title=dict(text=\"Depth\", font=dict(size=14,color =\"#007FBF\")),\n",
    "            tickfont= dict(color= \"#007FBF\", size= 10),\n",
    "            ticks=\"inside\", \n",
    "            tickwidth=1,\n",
    "            ticklen=10,\n",
    "            tickcolor=\"#007FBF\",\n",
    "            autorange= \"reversed\",\n",
    "            showgrid=True,\n",
    "            fixedrange=False,\n",
    "            zeroline= False\n",
    "        ),\n",
    "        xaxis= dict(                         \n",
    "            title=dict( text=n_param, font=dict(size=14,color =\"#007FBF\")),\n",
    "            tickfont= dict( color= \"#007FBF\", size= 10),\n",
    "            showgrid=True,\n",
    "            tickwidth=1,\n",
    "            side= \"top\",\n",
    "            ticks=\"inside\", \n",
    "            tickcolor=\"#007FBF\", \n",
    "            ticklen=10,\n",
    "            fixedrange=False,\n",
    "            zeroline= False \n",
    "        ),\n",
    "        legend= dict( xanchor= \"right\", yanchor= \"bottom\", y= 0.1, x= 1.25,\n",
    "                      font = dict( size = 8),\n",
    "                      bgcolor=\"#F2F5F7\",),\n",
    "        #title_text= \"<b>NIT_ADJUSTED</b>\",\n",
    "        plot_bgcolor = \"#F2F5F7\", #\"#E6F7FF\", # \"#0085ca\"\n",
    "        #title_font_family= \"Open Sans\",\n",
    "        title_font_size= 16,\n",
    "        title_font_color= \"#003087\",\n",
    "        title_x= 0.01,\n",
    "        title_y= .99,\n",
    "        width= 700,\n",
    "        height= 700)\n",
    "    \n",
    "    #HTML export\n",
    "    fig.write_html('testing1234.html')\n",
    "    \n",
    "    return fig\n",
    "\n",
    "app.run_server(jupyter_mode='tab', debug=True)"
   ]
  },
  {
   "cell_type": "code",
   "execution_count": 30,
   "id": "1773fbcc-e93a-4fbd-941e-88350044af79",
   "metadata": {},
   "outputs": [
    {
     "name": "stdout",
     "output_type": "stream",
     "text": [
      "6999992\n"
     ]
    }
   ],
   "source": [
    "foo = \"6999992\"\n",
    "print(foo[:7])"
   ]
  },
  {
   "cell_type": "markdown",
   "id": "6917efbe-75d6-47da-8c34-f5f8957dc361",
   "metadata": {
    "scrolled": true
   },
   "source": [
    "### Useful lines \n",
    "```\n",
    " - fig.gettraces()\n",
    " - print(df.columns.tolist())\n",
    " - preview_df(df_10)\n",
    " - ds_2 = xr.open_dataset( f_2_sprof)\n",
    "   print(ds_2)"
   ]
  },
  {
   "cell_type": "markdown",
   "id": "0f1a1b18-0773-4d5e-8d13-eafd61e4206a",
   "metadata": {},
   "source": [
    "### Miscellaneous Scrap Code \n",
    "please ignore"
   ]
  },
  {
   "cell_type": "raw",
   "id": "490c433f-355c-46c5-b677-d599192c5f73",
   "metadata": {
    "jupyter": {
     "source_hidden": true
    }
   },
   "source": [
    "f_22_odv     = f'{matlab_data_dir}4903622/QC/ODV4903622QC.TXT'\n",
    "f_22_sprof   = f'{matlab_data_dir}4903622/4903622_Sprof.nc'\n",
    "\n",
    "f_24_odv     = f'{matlab_data_dir}4903624/QC/ODV4903624QC.TXT'\n",
    "f_24_sprof   = f'{matlab_data_dir}4903624/4903624_Sprof.nc'\n",
    "\n",
    "f_25_odv     = f'{matlab_data_dir}4903625/QC/ODV4903625QC.TXT'\n",
    "f_25_sprof   = f'{matlab_data_dir}4903625/4903625_Sprof.nc'\n",
    "\n",
    "f_9_odv     = f'{matlab_data_dir}7901009/QC/ODV7901009QC.TXT'\n",
    "f_9_sprof   = f'{matlab_data_dir}7901009/7901009_Sprof.nc'\n",
    "\n",
    "#f_10_odv      = f'{matlab_data_dir}2904010/QC/ODV2904010QC.TXT'\n",
    "f_10_odv      = f'{matlab_data_dir}2904010/ODV2904010.TXT'\n",
    "f_10_sprof    = f'{matlab_data_dir}2904010/2904010_Sprof.nc'\n",
    "               #'/Users/madison.soden/Downloads/2904010_Sprof.nc'\n",
    "\n",
    "f_11_odv      = f'{matlab_data_dir}2904011/QC/ODV2904011QC.TXT'\n",
    "f_11_odv      = f'{matlab_data_dir}2904011/ODV2904011.TXT'\n",
    "f_11_sprof    = f'{matlab_data_dir}2904011/2904011_Sprof.nc'\n",
    "               #'/Users/madison.soden/Downloads/2904011_Sprof.nc'\n",
    "\n",
    "f_2_odv      = f'{matlab_data_dir}6999992/QC/ODV6999992QC.TXT'\n",
    "f_2_sprof    = f'{matlab_data_dir}6999992/6999992_Sprof.nc'\n",
    "               #'/Users/madison.soden/Downloads/6999992_Sprof.nc'\n",
    "\n",
    "f_4_odv      = f'{matlab_data_dir}4903904/QC/ODV4903904QC.TXT'\n",
    "f_4_sprof    = f'{matlab_data_dir}4903904/4903904_Sprof.nc'\n",
    "               #'/Users/madison.soden/Downloads/4903904_Sprof.nc'\n",
    "\n",
    "df_4, nit_break_points_4 = load_ODV(f_4_odv)\n",
    "df_4_grouped = df_4.groupby(\"Station\", as_index=False)\n",
    "df_4_prof_list = df_4['Station'].unique().tolist()"
   ]
  },
  {
   "cell_type": "raw",
   "id": "98ffd66e-7f72-4a18-b203-30df6819a864",
   "metadata": {
    "jupyter": {
     "source_hidden": true
    }
   },
   "source": [
    "#max_prof_2 = df_sprof_2[\"N_PROF\"].max()\n",
    "#max_prof_4 = df_sprof_4[\"N_PROF\"].max()\n",
    "#max_prof_10 = df_sprof_10[\"N_PROF\"].max()\n",
    "#max_prof_11 = df_sprof_11[\"N_PROF\"].max()\n",
    "#max_prof_range = 17#max(max_prof_2, max_prof_4)\n",
    "#print(f\"max_prof_2={max_prof_2}\")\n",
    "#print(f\"max_prof_4={max_prof_4}\")\n",
    "#print(f\"max_prof_range={max_prof_range}\")\n",
    "#print(df_sprof_2[\"N_PROF\"])"
   ]
  },
  {
   "cell_type": "raw",
   "id": "32702a26-aa06-425f-a15b-29a6a419f109",
   "metadata": {
    "jupyter": {
     "source_hidden": true
    }
   },
   "source": [
    "    #mask_10 = (float_df_dict['2904010']['r_df']['Station'] >= low) & (float_df_dict['2904010']['r_df']['Station'] <= high)\n",
    "    #mask_11 = (float_df_dict['2904011']['r_df']['Station'] >= low) & (float_df_dict['2904011']['r_df']['Station'] <= high)\n",
    "    #mask_24 = (df_24['Station'] >= low) & (df_24['Station'] <= high)\n",
    "    #mask_2 = (df_2['Station'] >= low) & (df_2['Station'] <= high)\n",
    "    #mask_4 = (df_4['Station'] >= low) & (df_4['Station'] <= high)\n",
    "    #mask = (df_9['Station'] >= low) & (df_9['Station'] <= high)\n",
    "    #mask_22 = (df_22['Station'] >= low) & (df_22['Station'] <= high)\n",
    "\n",
    "\n",
    "    \"\"\"\n",
    "    ##6999992##\n",
    "    #inital fig made with plotly express, very important for html color toggles\n",
    "    #print(f\"Filtered rows: {df_2[mask_2].shape[0]}\")\n",
    "    fig.add_trace( px.scatter( df_2[mask_2], x=n_param, y='Depth[m]', color=color_str, \n",
    "                      color_discrete_sequence=line_colors_reds, hover_data=['Station'], \n",
    "                      range_x = start_x_range).update_traces(legendgroup= \"6999992\").data[0]) \n",
    "   \n",
    "    #looping profiles to add as traces\n",
    "    trace_legend_bool = True\n",
    "    for profile_num, df in df_2_grouped: \n",
    "    #for profile_num, df in df_9_grouped: \n",
    "        if(profile_num in range(low, high+1)): #+1 added to have range inclusive of 'high'\n",
    "            trace_legend_bool = True# if profile_num == low else False\n",
    "            fig.add_trace(\n",
    "                go.Scatter(\n",
    "                    y= df_2['Depth[m]'], \n",
    "                    x= df_2[n_param],\n",
    "                    name= \"6999992 \"+str(profile_num),\n",
    "                    hoverinfo='skip',\n",
    "                    legendgroup= \"6999992\",\n",
    "                    line= dict(color= line_colors_reds[0], width= 1),\n",
    "                    showlegend= trace_legend_bool) )\n",
    "\n",
    "    ##490394##\n",
    "    #inital fig made with plotly express, very important for html color toggles\n",
    "    #print(f\"Filtered rows: {df_4[mask_4].shape[0]}\")\n",
    "    fig.add_trace( px.scatter( df_4[mask_4], x=n_param, y='Depth[m]', \n",
    "                    color=color_str, color_discrete_sequence=line_colors_blues, \n",
    "                    hover_data=['Station'], range_x = start_x_range).update_traces(legendgroup= \"4903904\").data[0])\n",
    "   \n",
    "    #looping profiles to add as traces\n",
    "    trace_legend_bool = True\n",
    "    for profile_num, df in df_4_grouped: \n",
    "    #for profile_num, df in df_9_grouped: \n",
    "        if(profile_num in range(low, high+1)): #+1 added to have range inclusive of 'high'\n",
    "            trace_legend_bool = True #if profile_num == low else False\n",
    "            fig.add_trace(\n",
    "                go.Scatter(\n",
    "                    y= df['Depth[m]'], \n",
    "                    x= df[n_param],\n",
    "                    name= \"4903904 \"+str(profile_num),\n",
    "                    hoverinfo='skip',\n",
    "                    legendgroup= \"4903904\",\n",
    "                    line= dict(color= line_colors_blues[0], width= 1),\n",
    "                    showlegend= trace_legend_bool) )\n",
    "    \n",
    "    \n",
    "    ##7901009##\n",
    "    #inital fig made with plotly express, very important for html color toggles\n",
    "    fig = px.scatter( df_9[mask], x=n_param, y='Depth[m]', color=color_str, \n",
    "                      color_discrete_sequence=line_colors_reds, hover_data=['Station'], range_x = start_x_range).update_traces(legendgroup= \"7901009\") \n",
    "\n",
    "    #looping profiles to add as traces\n",
    "    trace_legend_bool = True\n",
    "    for profile_num, df in df_9_grouped: \n",
    "        if(profile_num in range(low, high+1)): #+1 added to have range inclusive of 'high'\n",
    "            trace_legend_bool = True if profile_num == low else False\n",
    "            fig.add_trace(\n",
    "                go.Scatter(\n",
    "                    y= df['Depth[m]'], \n",
    "                    x= df[n_param],\n",
    "                    name= \"7901009 \"+str(profile_num),\n",
    "                    hoverinfo='skip',\n",
    "                    legendgroup= \"7901009\",\n",
    "                    line= dict(color= line_colors_reds[0], width= 1),\n",
    "                    showlegend= trace_legend_bool) )\n",
    "\n",
    "    \n",
    "    ##4903622##\n",
    "    #second fig made with plotly express, very important for html color toggles\n",
    "    fig.add_trace( px.scatter(df_22[mask_22], x=n_param, y='Depth[m]', \n",
    "                   color_discrete_sequence=line_colors_blues, color=color_str, \n",
    "                   hover_data=['Station'], range_x = [0,35]).update_traces(legendgroup= \"4903622\", showlegend=False).data[0])\n",
    "\n",
    "    #looping profiles to add traces\n",
    "    trace_legend_bool = True\n",
    "    for profile_num, df in df_22_grouped: \n",
    "        if(profile_num in range(low, high+1)): #+1 added to have range inclusive of 'high'\n",
    "            trace_legend_bool = True if profile_num == low else False\n",
    "            fig.add_trace(\n",
    "                go.Scatter(\n",
    "                    y= df['Depth[m]'], \n",
    "                    x= df[n_param],\n",
    "                    name= \"4903622 \"+str(profile_num),\n",
    "                    legendgroup= \"4903622\",\n",
    "                    hoverinfo='skip',\n",
    "                    line= dict(color= line_colors_blues[0], width= 1),\n",
    "                    showlegend= trace_legend_bool) )\n",
    "    \"\"\"\n",
    "    \"\"\"\n",
    "    ##4903624##\n",
    "    #inital fig made with plotly express, very important for html color toggles\n",
    "    print(f\"Filtered rows: {df_24[mask_24].shape[0]}\")\n",
    "    fig.add_trace( px.scatter( df_24[mask_24], x=n_param, y='Depth[m]', \n",
    "                    color=color_str, color_discrete_sequence=line_colors_blues, \n",
    "                    hover_data=['Station'], range_x = start_x_range).update_traces(legendgroup= \"4093624\").data[0])\n",
    "   \n",
    "    #looping profiles to add as traces\n",
    "    trace_legend_bool = True\n",
    "    for profile_num, df in df_24_grouped: \n",
    "    #for profile_num, df in df_9_grouped: \n",
    "        if(profile_num in range(low, high+1)): #+1 added to have range inclusive of 'high'\n",
    "            trace_legend_bool = True #if profile_num == low else False\n",
    "            fig.add_trace(\n",
    "                go.Scatter(\n",
    "                    y= df['Depth[m]'], \n",
    "                    x= df[n_param],\n",
    "                    name= \"4903624 \"+str(profile_num),\n",
    "                    hoverinfo='skip',\n",
    "                    #legendgroup= \"4903624\",\n",
    "                    line= dict(color= line_colors_blues[0], width= 1),\n",
    "                    showlegend= trace_legend_bool) )\n",
    "    \"\"\"\n",
    "     \"\"\"\n",
    "    ##2904010##\n",
    "    #inital fig made with plotly express, very important for html color toggles\n",
    "    #print(f\"Filtered rows: {df_10[mask_10].shape[0]}\")\n",
    "    fig.add_trace( px.scatter( df_10[mask_10], x=n_param, y='Depth[m]', \n",
    "                    color=color_str, color_discrete_sequence=line_colors_blues, \n",
    "                    hover_data=['Station'], range_x = start_x_range).update_traces(legendgroup= \"2904010\").data[0])\n",
    "   \n",
    "    #looping profiles to add as traces\n",
    "    trace_legend_bool = False\n",
    "    for profile_num, df in df_10_grouped: \n",
    "        if(profile_num in range(low, high+1)): #+1 added to have range inclusive of 'high'\n",
    "            #trace_legend_bool = True #if profile_num == low else False\n",
    "            fig.add_trace(\n",
    "                go.Scatter(\n",
    "                    y= df['Depth[m]'], \n",
    "                    x= df[n_param],\n",
    "                    name= \"2904010 \"+str(profile_num),\n",
    "                    hoverinfo='skip',\n",
    "                    legendgroup= \"2904010\",\n",
    "                    line= dict(color= line_colors_blues[0], width= 1),\n",
    "                    showlegend= trace_legend_bool) )\n",
    "    \"\"\""
   ]
  },
  {
   "cell_type": "raw",
   "id": "b07c7d36-92e0-4471-93f8-3247aa649701",
   "metadata": {
    "jupyter": {
     "source_hidden": true
    }
   },
   "source": [
    "\"\"\" SCRAP\n",
    "#print(df_9_standard)\n",
    "fig = go.Figure()\n",
    "for profile_num, df in df_9_standard: #[int(low)-1,int(high)-1]:\n",
    "    fig.add_trace(px.scatter( df, x='Nitrate[µmol/kg]', y='Depth[m]', \n",
    "                      color='NitrateQF', hover_data=['Station'], range_x = [0,35]).data[0])\n",
    "    #if(int(profile_num) == 1): print(type(df))\n",
    "    #if(profile_num in range(low, high)):\n",
    "        #foo = df[profile_num]\n",
    "        #print(foo)\n",
    "#       fig.add_trace(px.scatter( foo, x='Nitrate[µmol/kg]', y='Depth[m]', \n",
    "#                 color='NitrateQF', hover_data=['Station'], range_x = [0,35]))\n",
    "\"\"\"\n",
    "\"\"\"\n",
    "  #  fig.add_trace( px.scatter(df_9_large[mask_22], x='Nitrate[µmol/kg]', y='Depth[m]', \n",
    "  #                color='NitrateQF', color_discrete_sequence= line_colors_large, \n",
    "  #                hover_data=['Station']))\n",
    "                  \n",
    "#        go.Scatter( y= df_9_large['Depth[m]'], \n",
    "#                    x= df_9_large['Nitrate[µmol/kg]'],\n",
    "#                    name= \"9_NN_large\",\n",
    "#                    line= dict(color= '#007FBF', width= 3)\n",
    "#    ))\n",
    "\n",
    "   # fig.add_traces(\n",
    "   # list(px.line(df_9[mask], x='Nitrate[µmol/kg]', y='Depth[m]', \n",
    "   #               color='NitrateQF', color_discrete_sequence=line_colors, \n",
    "   #               hover_data=['Station'], markers=True, range_x = [0,35] ).select_traces())\n",
    "   # )\n",
    " #   fig.add_traces(\n",
    " #   list(px.line(...).select_traces())\n",
    " #   )\n",
    "    #fig.update_traces(connectgaps=False)\n",
    "\"\"\""
   ]
  },
  {
   "cell_type": "raw",
   "id": "404f7449-a277-4d47-87fd-3798e14f3e28",
   "metadata": {
    "jupyter": {
     "source_hidden": true
    }
   },
   "source": [
    "files = get_netcdf_files(netcdf_dir)\n",
    "#print(files)\n",
    "#['AOML_BR4903622_122.nc', 'AOML_BR4903622_116.nc', 'AOML_BR4903622_123.nc', 'AOML_BR4903622_117.nc', 'AOML_BR4903622_118.nc', 'AOML_BR4903622_119.nc', 'AOML_BR4903622_120.nc',\n",
    "# 'AOML_BR4903622_114.nc', 'AOML_BR4903622_124.nc', 'AOML_BR4903622_125.nc', 'AOML_BR4903622_121.nc', 'AOML_BR4903622_115.nc']\n",
    "df = pd.DataFrame()\n",
    "for f in files:\n",
    "    df1 = xarray_netcdf_df(netcdf_dir+f)\n",
    "    df1['Station'] = int(f[-6:-3])\n",
    "    df1.loc[len(df)] = pd.Series( [None] * len(df1.columns), index = df1.columns)\n",
    "    df = pd.concat([df,df1], axis=0)\n",
    "print(df)\n",
    "df_Amode22 = df\n",
    "df_Amode22['pH_Insitu_total'] = 0.0 #FIXME\n",
    "\n",
    "#df_Amode22\n",
    "#df_Amode22_grouped = df_Amode22.groupby(\"Station\", as_index=False)\n",
    "\n",
    "#for r in range(1,114):\n",
    "#    df_Amode22.loc[len(df_Amode22)] = [None] * len(df_Amode22.columns)\n",
    "#    df_Amode22.loc[len(df_Amode22)-1, 'Station'] = r\n",
    "\n",
    "\n",
    "   # mask_Amode22 = (df_Amode22['Station'] >= low) & (df_Amode22['Station'] <= high)\n",
    "\n",
    "    #4903622 A MODE##\n",
    "    second fig made with plotly express, very important for html color toggles\n",
    "    fig.add_trace( px.scatter(df_Amode22[mask_Amode22], x=n_param, y='Depth[m]', \n",
    "                   color_discrete_sequence=line_colors_greens, color=color_str, \n",
    "                   hover_data=['Station'], range_x = [0,35]).update_traces(legendgroup= \"4903622_Amode\", showlegend=True).data[0])\n",
    "    #looping profiles to add traces\n",
    "    trace_legend_bool = True\n",
    "    for profile_num, df in df_Amode22_grouped: \n",
    "        if(profile_num in range(low, high+1)): #+1 added to have range inclusive of 'high'\n",
    "            trace_legend_bool = True if profile_num == low else False\n",
    "            fig.add_trace(\n",
    "                go.Scatter(\n",
    "                    y= df['Depth[m]'], \n",
    "                    x= df[n_param],\n",
    "                    name= \"4903622 \"+str(profile_num),\n",
    "                    legendgroup= \"4903622_Amode\",\n",
    "                    hoverinfo='skip',\n",
    "                    line= dict(color= line_colors_greens[0], width= 1),\n",
    "                    showlegend= trace_legend_bool) )"
   ]
  },
  {
   "cell_type": "raw",
   "id": "71284939-8ef7-42fb-ba14-7e3d155669a2",
   "metadata": {
    "jupyter": {
     "source_hidden": true
    }
   },
   "source": [
    "02_12_26 scrap\n",
    "    #mask_shallow = (df_9_shallow['Station'] > low) & (df_9_shallow['Station'] < high)\n",
    "    ##SHALLOW##\n",
    "    fig.add_trace( px.scatter(df_9_shallow[mask_shallow], x='Nitrate[µmol/kg]', y='Depth[m]', \n",
    "                   color_discrete_sequence=line_colors_blues, color='NitrateQF',\n",
    "                   hover_data=['Station'], range_x = [0,35]).data[0])\n",
    "    \n",
    "    trace_legend_bool = True\n",
    "    \n",
    "    for profile_num, df in df_9_shallow_grouped: \n",
    "        if(profile_num in range(low, high+1)): #+1 added to have range inclusive of 'high'\n",
    "            trace_legend_bool = True if profile_num == low else False\n",
    "            fig.add_trace(\n",
    "                go.Scatter(\n",
    "                    y= df['Depth[m]'], \n",
    "                    x= df['Nitrate[µmol/kg]'],\n",
    "                    name= \"f9 Shallow\"+str(profile_num),\n",
    "                    legendgroup= \"f9 Shallow\",\n",
    "                    line= dict(color= line_colors_reds[0], width= 1),\n",
    "                    showlegend= trace_legend_bool) )\n",
    "            \n",
    "            #fig.add_traces( \n",
    "            #     px.line( df, x='Nitrate[µmol/kg]', y='Depth[m]',\n",
    "            #              color='NitrateQF', hover_data=['Station'], markers=True, range_x = [0,35]\n",
    "            #            ).data[0])\n",
    "            #fig.update_traces(showlegend=False)\n",
    "            #fig.data[0].update(mode='markers+lines')     \n",
    "\n",
    "#df_9_large = load_ODV(f9_1100_1520)\n",
    "#df_9_large_grouped = df_9_large.groupby(\"Station\", as_index=False)\n",
    "#df_9_shallow = load_ODV(f9_1100_1200)\n",
    "#df_9_shallow_grouped = df_9_large.groupby(\"Station\", as_index=False)\n",
    "\n",
    "#_standard\n",
    "#f9_nprof_large = len(df_9_large)+1 \n",
    "\n",
    "#    html.A(\n",
    "##        html.Button(\"Download as HTML\"), \n",
    " #       id=\"download\",\n",
    " #       href=\"data:text/html;base64,\" + encoded,\n",
    " #       download=\"plotly_graph.html\" )"
   ]
  },
  {
   "cell_type": "code",
   "execution_count": null,
   "id": "17674b5b-db5b-425b-80da-cb84db045ac4",
   "metadata": {
    "jupyter": {
     "source_hidden": true
    }
   },
   "outputs": [],
   "source": [
    "def gen_Netcdf( floatNum, BRfileName, BDfileName):\n",
    "    #Copying BRnetcdf data object to new working netcdf file\n",
    "    os.system('cp ' + data_dir + floatNum+ '/' +  BRfileName + \" \" + data_dir + floatNum+ '/' + 'BD/'+BDfileName)\n",
    "        ##Unix/Mac format os.system('cp file1.txt file7.txt')\n",
    "        ##Windows format os.system('copy file1.txt file7.txt')\n",
    "    \n",
    "    #Opening working BDfile \n",
    "    ##format to open file in NETCDF3_CLASSIC\n",
    "    ## 'a' (append) mode automatically reads previous netcdf format\n",
    "    BDfile = netCDF4.Dataset(data_dir + floatNum+ '/' + 'BD/' + BDfileName, 'a') #opening BDfile\n",
    "    return BDfile"
   ]
  },
  {
   "cell_type": "code",
   "execution_count": null,
   "id": "4100fdae-976d-4120-a78e-609787884ed7",
   "metadata": {
    "jupyter": {
     "source_hidden": true
    }
   },
   "outputs": [],
   "source": [
    "def set_DOXY_vars( BDfile, df_ODV, OxygenQC_index, sageGain):\n",
    "    #setting DOXY_ADJUSTED, DOXY_ADJUSTED_QC, and DOXY_ADJUSTED_ERROR\n",
    "    #initalizing empty arrays to write ODV data too\n",
    "    \n",
    "    DOXY_Adjusted_Array = np.ma.empty(shape = (BDfile.dimensions[\"N_LEVELS\"].size), fill_value=99999.0, dtype='float32')\n",
    "    DOXY_Adjusted_Array[:] = 99999.0\n",
    "    DOXY_Adjusted_Array.mask = True\n",
    "    \n",
    "    DOXY_AdjustedQC_Array = np.ma.empty(shape = (BDfile.dimensions[\"N_LEVELS\"].size), dtype='|S1')\n",
    "    DOXY_AdjustedQC_Array[:] = ''\n",
    "    DOXY_AdjustedQC_Array.mask = True\n",
    "\n",
    "    DOXY_Adjusted_Error = np.ma.empty(shape = (BDfile.dimensions[\"N_LEVELS\"].size), fill_value=99999.0, dtype='float32')\n",
    "    DOXY_Adjusted_Error[:] = 99999.0\n",
    "    DOXY_Adjusted_Error.mask = True\n",
    "    \n",
    "    \n",
    "    for i in range(BDfile.dimensions[\"N_LEVELS\"].size):\n",
    "        #DOXY_Adjusted_Array\n",
    "        x = np.float32( BDfile.variables[\"DOXY\"][1, i] *np.float32(sageGain))\n",
    "        if ~BDfile.variables[\"DOXY\"][1,i].mask: \n",
    "            DOXY_Adjusted_Array[i] = x \n",
    "            #set DOXY_AdjustedQC_Array to 'Good'. or 1\n",
    "            DOXY_AdjustedQC_Array[i] = 1\n",
    "\n",
    "        #iterating through ODV file for selected cycle\n",
    "        for row in df_ODV.index.values:\n",
    "            if (np.float32(df_ODV.iloc[row]['Pressure[dbar]']) == np.round( BDfile.variables['PRES'][1,i], 2)):\n",
    "                if ~(BDfile.variables[\"DOXY\"][1,i].mask): \n",
    "                    DOXY_Adjusted_Error[i] = clim_adjusted_error_calc( pd.to_datetime(df_ODV.iloc[row]['mon/day/yr'], format= \"%m/%d/%Y\" ).to_julian_date(), \n",
    "                                                                          pd.to_datetime(df_ODV.iloc[row]['mon/day/yr'], format= \"%m/%d/%Y\" ).to_julian_date(),\n",
    "                                                                          df_ODV.iloc[row]['Temperature[°C]'], \n",
    "                                                                          df_ODV.iloc[row]['Salinity[pss]'])\n"
   ]
  },
  {
   "cell_type": "code",
   "execution_count": null,
   "id": "74e6c3f5-4639-4409-97b7-6b5e27f73e59",
   "metadata": {
    "jupyter": {
     "source_hidden": true
    },
    "scrolled": true
   },
   "outputs": [],
   "source": [
    "#foo_row = pd.DataFrame({'Station': [112], 'Cruise':None, 'Type':None, 'mon/day/yr':None, 'hh:mm':None, 'Lon [°E]':None, 'Lat [°N]':None, 'QF':None, 'Pressure[dbar]':None, 'PressureQF':None,\n",
    "#                        'Temperature[°C]':None, 'TemperatureQF':None, 'Salinity[pss]':None, 'SalinityQF':None, 'Sigma_theta[kg/m^3]':None, 'QF.4':None, 'Depth[m]':None, 'QF.5':None, \n",
    "#                        'Oxygen[µmol/kg]':None, 'OxygenQF':None, 'OxygenSat[%]':None, 'QF.7':None, 'Nitrate[µmol/kg]':None, 'NitrateQF':None, 'CHLA[mg/m^3]':None, 'CHLAQF':None, 'BBP_700[1/m]':None,\n",
    "#                        'BBPQF':None, 'CDOM[ppb]':None, 'QF.11':None, 'pH_Insitu_total':None, 'pH_QF':None, 'CP660[1/m]':None, 'QF.13':None})\n",
    "#df_22 = pd.concat([df, new_row], ignore_index=True)\n",
    "#df_22.loc[len(df_22)] = [None] * len(df_22.columns)\n",
    "#df_22.loc[len(df_22)-1, 'Station'] = 112\n",
    "#print(df_22)"
   ]
  }
 ],
 "metadata": {
  "kernelspec": {
   "display_name": "Python [conda env:Argo_jupyter] *",
   "language": "python",
   "name": "conda-env-Argo_jupyter-py"
  },
  "language_info": {
   "codemirror_mode": {
    "name": "ipython",
    "version": 3
   },
   "file_extension": ".py",
   "mimetype": "text/x-python",
   "name": "python",
   "nbconvert_exporter": "python",
   "pygments_lexer": "ipython3",
   "version": "3.9.21"
  }
 },
 "nbformat": 4,
 "nbformat_minor": 5
}
